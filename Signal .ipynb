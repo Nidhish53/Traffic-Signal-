{
 "cells": [
  {
   "cell_type": "markdown",
   "metadata": {},
   "source": [
    "# Traffic Signal Project"
   ]
  },
  {
   "cell_type": "code",
   "execution_count": 14,
   "metadata": {},
   "outputs": [],
   "source": [
    "import os\n",
    "import cv2"
   ]
  },
  {
   "cell_type": "code",
   "execution_count": null,
   "metadata": {},
   "outputs": [],
   "source": []
  },
  {
   "cell_type": "code",
   "execution_count": null,
   "metadata": {},
   "outputs": [],
   "source": []
  },
  {
   "cell_type": "code",
   "execution_count": 15,
   "metadata": {},
   "outputs": [
    {
     "name": "stdout",
     "output_type": "stream",
     "text": [
      "In folder 0\n",
      "In folder 1\n",
      "In folder 2\n",
      "In folder 3\n",
      "In folder 4\n",
      "In folder 5\n",
      "In folder 6\n",
      "In folder 7\n",
      "In folder 8\n",
      "In folder 9\n",
      "In folder 10\n",
      "In folder 11\n",
      "In folder 12\n",
      "In folder 13\n",
      "In folder 14\n",
      "In folder 15\n",
      "In folder 16\n",
      "In folder 17\n",
      "In folder 18\n",
      "In folder 19\n",
      "In folder 20\n",
      "In folder 21\n",
      "In folder 22\n",
      "In folder 23\n",
      "In folder 24\n",
      "In folder 25\n",
      "In folder 26\n",
      "In folder 27\n",
      "In folder 28\n",
      "In folder 29\n",
      "In folder 30\n",
      "In folder 31\n",
      "In folder 32\n",
      "In folder 33\n",
      "In folder 34\n",
      "In folder 35\n",
      "In folder 36\n",
      "In folder 37\n",
      "In folder 38\n",
      "In folder 39\n",
      "In folder 40\n",
      "In folder 41\n",
      "In folder 42\n"
     ]
    }
   ],
   "source": [
    "features= []\n",
    "targets= []\n",
    "for x in range(0,43):\n",
    " ImgName =os.listdir(\"D:/myData\" + \"/\" + str(x))\n",
    " for j in ImgName:\n",
    "  Img = cv2.imread(\"D:/myData\" + \"/\"+ str(x) +\"/\"+ j)\n",
    "  features.append(Img)\n",
    "  targets.append(x)\n",
    " print(\"In folder\" , x)  \n"
   ]
  },
  {
   "cell_type": "code",
   "execution_count": 16,
   "metadata": {},
   "outputs": [],
   "source": [
    "import numpy as np "
   ]
  },
  {
   "cell_type": "code",
   "execution_count": 17,
   "metadata": {},
   "outputs": [],
   "source": [
    "features = np.array(features)"
   ]
  },
  {
   "cell_type": "code",
   "execution_count": 18,
   "metadata": {},
   "outputs": [],
   "source": [
    "targets = np.array(targets)"
   ]
  },
  {
   "cell_type": "code",
   "execution_count": 19,
   "metadata": {},
   "outputs": [],
   "source": [
    "from  sklearn.model_selection import train_test_split"
   ]
  },
  {
   "cell_type": "code",
   "execution_count": 20,
   "metadata": {},
   "outputs": [],
   "source": [
    "features_train, features_test, targets_train,  targets_test  = train_test_split(features,targets,test_size=0.2)"
   ]
  },
  {
   "cell_type": "code",
   "execution_count": 21,
   "metadata": {},
   "outputs": [],
   "source": [
    "def preprocessing(image):\n",
    "    image= cv2.cvtColor( image, cv2.COLOR_BGR2GRAY)\n",
    "    image= image/255\n",
    "    \n",
    "    \n",
    "    return image"
   ]
  },
  {
   "cell_type": "code",
   "execution_count": 22,
   "metadata": {},
   "outputs": [
    {
     "data": {
      "text/plain": [
       "(27839, 32, 32, 3)"
      ]
     },
     "execution_count": 22,
     "metadata": {},
     "output_type": "execute_result"
    }
   ],
   "source": [
    "features_train.shape"
   ]
  },
  {
   "cell_type": "code",
   "execution_count": 23,
   "metadata": {},
   "outputs": [],
   "source": [
    "features_train =np.array(list(map(preprocessing , features_train)))"
   ]
  },
  {
   "cell_type": "code",
   "execution_count": 24,
   "metadata": {},
   "outputs": [
    {
     "data": {
      "text/plain": [
       "(27839, 32, 32)"
      ]
     },
     "execution_count": 24,
     "metadata": {},
     "output_type": "execute_result"
    }
   ],
   "source": [
    "features_train.shape"
   ]
  },
  {
   "cell_type": "code",
   "execution_count": 25,
   "metadata": {},
   "outputs": [],
   "source": [
    "features_train=features_train.reshape(27839, 32, 32, 1)"
   ]
  },
  {
   "cell_type": "code",
   "execution_count": 26,
   "metadata": {},
   "outputs": [],
   "source": [
    "from tensorflow.keras.preprocessing.image import ImageDataGenerator"
   ]
  },
  {
   "cell_type": "code",
   "execution_count": 27,
   "metadata": {},
   "outputs": [],
   "source": [
    "dataGen = ImageDataGenerator(rotation_range=10,width_shift_range= 0.1,height_shift_range= 0.1,zoom_range= 0.2,shear_range= 0.3)"
   ]
  },
  {
   "cell_type": "code",
   "execution_count": 28,
   "metadata": {},
   "outputs": [],
   "source": [
    "dataGen.fit(features_train)"
   ]
  },
  {
   "cell_type": "code",
   "execution_count": 29,
   "metadata": {},
   "outputs": [],
   "source": [
    "batches= dataGen.flow(features_train,targets_train,batch_size=20)"
   ]
  },
  {
   "cell_type": "code",
   "execution_count": 30,
   "metadata": {},
   "outputs": [],
   "source": [
    "images, labels= next(batches)"
   ]
  },
  {
   "cell_type": "code",
   "execution_count": 31,
   "metadata": {},
   "outputs": [
    {
     "data": {
      "text/plain": [
       "(20, 32, 32, 1)"
      ]
     },
     "execution_count": 31,
     "metadata": {},
     "output_type": "execute_result"
    }
   ],
   "source": [
    "images.shape"
   ]
  },
  {
   "cell_type": "code",
   "execution_count": 32,
   "metadata": {},
   "outputs": [
    {
     "data": {
      "text/plain": [
       "array([[[0.5019608 , 0.5019608 , 0.5261161 , ..., 1.        ,\n",
       "         1.        , 1.        ],\n",
       "        [0.5019608 , 0.5019608 , 0.52542126, ..., 1.        ,\n",
       "         1.        , 1.        ],\n",
       "        [0.447937  , 0.4474243 , 0.46701407, ..., 1.        ,\n",
       "         1.        , 1.        ],\n",
       "        ...,\n",
       "        [0.6784314 , 0.6784314 , 0.66315895, ..., 1.        ,\n",
       "         1.        , 1.        ],\n",
       "        [0.6784314 , 0.6784314 , 0.6658079 , ..., 1.        ,\n",
       "         1.        , 1.        ],\n",
       "        [0.6784314 , 0.6784314 , 0.66845685, ..., 1.        ,\n",
       "         1.        , 1.        ]],\n",
       "\n",
       "       [[0.1882353 , 0.1882353 , 0.1882353 , ..., 0.9979199 ,\n",
       "         1.        , 1.        ],\n",
       "        [0.1855942 , 0.18627772, 0.18696123, ..., 1.        ,\n",
       "         1.        , 1.        ],\n",
       "        [0.1868761 , 0.18619259, 0.18550907, ..., 1.        ,\n",
       "         1.        , 1.        ],\n",
       "        ...,\n",
       "        [0.1894775 , 0.19682914, 0.20031272, ..., 0.19630106,\n",
       "         0.19561754, 0.19493403],\n",
       "        [0.19005549, 0.19919217, 0.20105156, ..., 0.1998561 ,\n",
       "         0.19946039, 0.19877687],\n",
       "        [0.19063348, 0.20092614, 0.20047358, ..., 0.19620879,\n",
       "         0.19669677, 0.19738029]],\n",
       "\n",
       "       [[0.92156863, 0.9245942 , 0.91650057, ..., 0.08627451,\n",
       "         0.08627451, 0.08627451],\n",
       "        [0.92156863, 0.9234009 , 0.9242576 , ..., 0.08627451,\n",
       "         0.08627451, 0.08627451],\n",
       "        [0.92156863, 0.9222075 , 0.92901134, ..., 0.08429952,\n",
       "         0.08331752, 0.08233552],\n",
       "        ...,\n",
       "        [0.6209555 , 0.28898734, 0.15838698, ..., 0.1089787 ,\n",
       "         0.11453811, 0.12546194],\n",
       "        [0.43609792, 0.21285458, 0.14391497, ..., 0.08794927,\n",
       "         0.10057499, 0.12155012],\n",
       "        [0.34501866, 0.20855637, 0.16480288, ..., 0.07778341,\n",
       "         0.09139114, 0.11588009]],\n",
       "\n",
       "       ...,\n",
       "\n",
       "       [[0.5137255 , 0.5137255 , 0.5137255 , ..., 0.42399845,\n",
       "         0.48771682, 0.45452723],\n",
       "        [0.5543572 , 0.54986674, 0.54537636, ..., 0.43282464,\n",
       "         0.48489246, 0.4485254 ],\n",
       "        [0.5248028 , 0.52929324, 0.5337836 , ..., 0.44165084,\n",
       "         0.48206806, 0.4425236 ],\n",
       "        ...,\n",
       "        [0.28196254, 0.30649725, 0.30950573, ..., 0.49697807,\n",
       "         0.49666226, 0.45554742],\n",
       "        [0.2847869 , 0.3068503 , 0.3091527 , ..., 0.40568414,\n",
       "         0.40890318, 0.40712067],\n",
       "        [0.2876113 , 0.30720335, 0.30879965, ..., 0.4033284 ,\n",
       "         0.39611867, 0.39249367]],\n",
       "\n",
       "       [[0.54473275, 0.5344949 , 0.35724133, ..., 0.3137255 ,\n",
       "         0.3137255 , 0.3137255 ],\n",
       "        [0.5373918 , 0.53792065, 0.368008  , ..., 0.3137255 ,\n",
       "         0.3137255 , 0.3137255 ],\n",
       "        [0.5300509 , 0.5413464 , 0.37877467, ..., 0.3137255 ,\n",
       "         0.3137255 , 0.3137255 ],\n",
       "        ...,\n",
       "        [0.17555726, 0.17532827, 0.1948526 , ..., 0.34102204,\n",
       "         0.34009653, 0.3383988 ],\n",
       "        [0.17330573, 0.17373016, 0.17961338, ..., 0.29614812,\n",
       "         0.29169157, 0.28723505],\n",
       "        [0.16113742, 0.16007634, 0.15940692, ..., 0.22745098,\n",
       "         0.22745098, 0.22745098]],\n",
       "\n",
       "       [[0.18876317, 0.17547002, 0.1707372 , ..., 0.22297193,\n",
       "         0.22091842, 0.21310645],\n",
       "        [0.15659904, 0.14765672, 0.14818715, ..., 0.21349926,\n",
       "         0.22297145, 0.2289162 ],\n",
       "        [0.14215736, 0.13838978, 0.14692995, ..., 0.20616588,\n",
       "         0.2146391 , 0.22455522],\n",
       "        ...,\n",
       "        [0.18591996, 0.185037  , 0.18415406, ..., 0.90154743,\n",
       "         0.47587892, 0.24943781],\n",
       "        [0.17869912, 0.17781617, 0.17693323, ..., 0.9398046 ,\n",
       "         0.55441433, 0.28684023],\n",
       "        [0.1764706 , 0.1764706 , 0.1764706 , ..., 0.94653887,\n",
       "         0.59888554, 0.3148406 ]]], dtype=float32)"
      ]
     },
     "execution_count": 32,
     "metadata": {},
     "output_type": "execute_result"
    }
   ],
   "source": [
    "images.reshape(20,32,32)"
   ]
  },
  {
   "cell_type": "code",
   "execution_count": 33,
   "metadata": {},
   "outputs": [],
   "source": [
    "import matplotlib.pyplot as plt"
   ]
  },
  {
   "cell_type": "code",
   "execution_count": 34,
   "metadata": {},
   "outputs": [
    {
     "data": {
      "image/png": "[encoded data removed]",
      "text/plain": [
       "<Figure size 432x288 with 1 Axes>"
      ]
     },
     "metadata": {
      "needs_background": "light"
     },
     "output_type": "display_data"
    }
   ],
   "source": [
    "plt.imshow(images[0])\n",
    "plt.show( )"
   ]
  },
  {
   "cell_type": "code",
   "execution_count": 36,
   "metadata": {},
   "outputs": [
    {
     "data": {
      "image/png": "[encoded data removed]",
      "text/plain": [
       "<Figure size 720x720 with 20 Axes>"
      ]
     },
     "metadata": {
      "needs_background": "light"
     },
     "output_type": "display_data"
    }
   ],
   "source": [
    "plt.figure(figsize=(10,10))\n",
    "for i in range(20):\n",
    "    plt.subplot(4,5,i+1)\n",
    "    plt.imshow(images[i])\n",
    "plt.show()"
   ]
  },
  {
   "cell_type": "code",
   "execution_count": 37,
   "metadata": {},
   "outputs": [],
   "source": [
    "from tensorflow.keras.utils import to_categorical"
   ]
  },
  {
   "cell_type": "code",
   "execution_count": 38,
   "metadata": {},
   "outputs": [],
   "source": [
    "targets_train=to_categorical(targets_train)"
   ]
  },
  {
   "cell_type": "code",
   "execution_count": 39,
   "metadata": {},
   "outputs": [
    {
     "data": {
      "text/plain": [
       "(27839, 43)"
      ]
     },
     "execution_count": 39,
     "metadata": {},
     "output_type": "execute_result"
    }
   ],
   "source": [
    "targets_train.shape"
   ]
  },
  {
   "cell_type": "raw",
   "metadata": {},
   "source": [
    "features_train.shape"
   ]
  },
  {
   "cell_type": "code",
   "execution_count": 40,
   "metadata": {},
   "outputs": [
    {
     "data": {
      "text/plain": [
       "(27839, 32, 32, 1)"
      ]
     },
     "execution_count": 40,
     "metadata": {},
     "output_type": "execute_result"
    }
   ],
   "source": [
    "features_train.shape"
   ]
  },
  {
   "cell_type": "markdown",
   "metadata": {},
   "source": [
    "# Step 1: Specify architecture "
   ]
  },
  {
   "cell_type": "code",
   "execution_count": 41,
   "metadata": {},
   "outputs": [],
   "source": [
    "from tensorflow.keras.layers import Dense,Flatten,Conv2D,MaxPooling2D,Dropout\n",
    "from tensorflow.keras.models import Sequential"
   ]
  },
  {
   "cell_type": "code",
   "execution_count": 44,
   "metadata": {},
   "outputs": [],
   "source": [
    "model = Sequential() \n",
    "model.add(Conv2D(60,(3,3),activation=\"relu\",input_shape=(32,32,1))) \n",
    "model.add(Conv2D(60,(3,3),activation=\"relu\")) \n",
    "model.add(MaxPooling2D((2,2)))\n",
    "model.add(Conv2D(30,(3,3),activation=\"relu\"))\n",
    "model.add(Conv2D(30,(3,3),activation=\"relu\")) \n",
    "model.add(Conv2D(30,(3,3),activation=\"relu\")) \n",
    "model.add(MaxPooling2D((2,2))) \n",
    "model.add(Dropout(0.5)) \n",
    "model.add(Flatten()) \n",
    "model.add(Dense(500, activation=\"relu\"))\n",
    "model.add(Dense(43, activation=\"softmax\"))"
   ]
  },
  {
   "cell_type": "markdown",
   "metadata": {},
   "source": [
    "# Step 2 : Compile the model"
   ]
  },
  {
   "cell_type": "code",
   "execution_count": 45,
   "metadata": {},
   "outputs": [],
   "source": [
    "from tensorflow.keras.optimizers import Adam"
   ]
  },
  {
   "cell_type": "code",
   "execution_count": 46,
   "metadata": {},
   "outputs": [],
   "source": [
    "model.compile(Adam(learning_rate=0.001),loss=\"categorical_crossentropy\",metrics=[\"accuracy\"])"
   ]
  },
  {
   "cell_type": "markdown",
   "metadata": {},
   "source": [
    "# Step 3: Train the model"
   ]
  },
  {
   "cell_type": "code",
   "execution_count": 47,
   "metadata": {},
   "outputs": [
    {
     "name": "stderr",
     "output_type": "stream",
     "text": [
      "C:\\Users\\Nidhish\\anaconda3\\lib\\site-packages\\tensorflow\\python\\keras\\engine\\training.py:1940: UserWarning: `Model.fit_generator` is deprecated and will be removed in a future version. Please use `Model.fit`, which supports generators.\n",
      "  warnings.warn('`Model.fit_generator` is deprecated and '\n"
     ]
    },
    {
     "name": "stdout",
     "output_type": "stream",
     "text": [
      "Epoch 1/20\n",
      "1392/1392 [==============================] - 75s 53ms/step - loss: 1.9377 - accuracy: 0.4550\n",
      "Epoch 2/20\n",
      "1392/1392 [==============================] - 75s 54ms/step - loss: 0.5999 - accuracy: 0.8159\n",
      "Epoch 3/20\n",
      "1392/1392 [==============================] - 78s 56ms/step - loss: 0.3762 - accuracy: 0.8860\n",
      "Epoch 4/20\n",
      "1392/1392 [==============================] - 85s 61ms/step - loss: 0.2869 - accuracy: 0.9114\n",
      "Epoch 5/20\n",
      "1392/1392 [==============================] - 91s 65ms/step - loss: 0.2360 - accuracy: 0.9270\n",
      "Epoch 6/20\n",
      "1392/1392 [==============================] - 93s 67ms/step - loss: 0.2008 - accuracy: 0.9382\n",
      "Epoch 7/20\n",
      "1392/1392 [==============================] - 92s 66ms/step - loss: 0.1801 - accuracy: 0.9449\n",
      "Epoch 8/20\n",
      "1392/1392 [==============================] - 75s 54ms/step - loss: 0.1618 - accuracy: 0.9508\n",
      "Epoch 9/20\n",
      "1392/1392 [==============================] - 76s 55ms/step - loss: 0.1652 - accuracy: 0.9510\n",
      "Epoch 10/20\n",
      "1392/1392 [==============================] - 77s 55ms/step - loss: 0.1420 - accuracy: 0.9575\n",
      "Epoch 11/20\n",
      "1392/1392 [==============================] - 81s 58ms/step - loss: 0.1329 - accuracy: 0.95930s\n",
      "Epoch 12/20\n",
      "1392/1392 [==============================] - 92s 66ms/step - loss: 0.1338 - accuracy: 0.9607\n",
      "Epoch 13/20\n",
      "1392/1392 [==============================] - 82s 59ms/step - loss: 0.1204 - accuracy: 0.9629\n",
      "Epoch 14/20\n",
      "1392/1392 [==============================] - 92s 66ms/step - loss: 0.1138 - accuracy: 0.9654\n",
      "Epoch 15/20\n",
      "1392/1392 [==============================] - 79s 57ms/step - loss: 0.1132 - accuracy: 0.9660\n",
      "Epoch 16/20\n",
      "1392/1392 [==============================] - 75s 54ms/step - loss: 0.1080 - accuracy: 0.9684\n",
      "Epoch 17/20\n",
      "1392/1392 [==============================] - 77s 55ms/step - loss: 0.1114 - accuracy: 0.9672\n",
      "Epoch 18/20\n",
      "1392/1392 [==============================] - 79s 57ms/step - loss: 0.1016 - accuracy: 0.9705\n",
      "Epoch 19/20\n",
      "1392/1392 [==============================] - 116s 83ms/step - loss: 0.1019 - accuracy: 0.9701s - l\n",
      "Epoch 20/20\n",
      "1392/1392 [==============================] - 129s 93ms/step - loss: 0.1045 - accuracy: 0.9699\n"
     ]
    },
    {
     "data": {
      "text/plain": [
       "<tensorflow.python.keras.callbacks.History at 0x1fe38e3d190>"
      ]
     },
     "execution_count": 47,
     "metadata": {},
     "output_type": "execute_result"
    }
   ],
   "source": [
    "model.fit_generator(dataGen.flow(features_train,targets_train,batch_size=20), epochs=20)"
   ]
  },
  {
   "cell_type": "code",
   "execution_count": 48,
   "metadata": {},
   "outputs": [
    {
     "data": {
      "text/plain": [
       "'{\"class_name\": \"Sequential\", \"config\": {\"name\": \"sequential\", \"layers\": [{\"class_name\": \"InputLayer\", \"config\": {\"batch_input_shape\": [null, 32, 32, 1], \"dtype\": \"float32\", \"sparse\": false, \"ragged\": false, \"name\": \"conv2d_input\"}}, {\"class_name\": \"Conv2D\", \"config\": {\"name\": \"conv2d\", \"trainable\": true, \"batch_input_shape\": [null, 32, 32, 1], \"dtype\": \"float32\", \"filters\": 60, \"kernel_size\": [3, 3], \"strides\": [1, 1], \"padding\": \"valid\", \"data_format\": \"channels_last\", \"dilation_rate\": [1, 1], \"groups\": 1, \"activation\": \"relu\", \"use_bias\": true, \"kernel_initializer\": {\"class_name\": \"GlorotUniform\", \"config\": {\"seed\": null}}, \"bias_initializer\": {\"class_name\": \"Zeros\", \"config\": {}}, \"kernel_regularizer\": null, \"bias_regularizer\": null, \"activity_regularizer\": null, \"kernel_constraint\": null, \"bias_constraint\": null}}, {\"class_name\": \"Conv2D\", \"config\": {\"name\": \"conv2d_1\", \"trainable\": true, \"dtype\": \"float32\", \"filters\": 60, \"kernel_size\": [3, 3], \"strides\": [1, 1], \"padding\": \"valid\", \"data_format\": \"channels_last\", \"dilation_rate\": [1, 1], \"groups\": 1, \"activation\": \"relu\", \"use_bias\": true, \"kernel_initializer\": {\"class_name\": \"GlorotUniform\", \"config\": {\"seed\": null}}, \"bias_initializer\": {\"class_name\": \"Zeros\", \"config\": {}}, \"kernel_regularizer\": null, \"bias_regularizer\": null, \"activity_regularizer\": null, \"kernel_constraint\": null, \"bias_constraint\": null}}, {\"class_name\": \"MaxPooling2D\", \"config\": {\"name\": \"max_pooling2d\", \"trainable\": true, \"dtype\": \"float32\", \"pool_size\": [2, 2], \"padding\": \"valid\", \"strides\": [2, 2], \"data_format\": \"channels_last\"}}, {\"class_name\": \"Conv2D\", \"config\": {\"name\": \"conv2d_2\", \"trainable\": true, \"dtype\": \"float32\", \"filters\": 30, \"kernel_size\": [3, 3], \"strides\": [1, 1], \"padding\": \"valid\", \"data_format\": \"channels_last\", \"dilation_rate\": [1, 1], \"groups\": 1, \"activation\": \"relu\", \"use_bias\": true, \"kernel_initializer\": {\"class_name\": \"GlorotUniform\", \"config\": {\"seed\": null}}, \"bias_initializer\": {\"class_name\": \"Zeros\", \"config\": {}}, \"kernel_regularizer\": null, \"bias_regularizer\": null, \"activity_regularizer\": null, \"kernel_constraint\": null, \"bias_constraint\": null}}, {\"class_name\": \"Conv2D\", \"config\": {\"name\": \"conv2d_3\", \"trainable\": true, \"dtype\": \"float32\", \"filters\": 30, \"kernel_size\": [3, 3], \"strides\": [1, 1], \"padding\": \"valid\", \"data_format\": \"channels_last\", \"dilation_rate\": [1, 1], \"groups\": 1, \"activation\": \"relu\", \"use_bias\": true, \"kernel_initializer\": {\"class_name\": \"GlorotUniform\", \"config\": {\"seed\": null}}, \"bias_initializer\": {\"class_name\": \"Zeros\", \"config\": {}}, \"kernel_regularizer\": null, \"bias_regularizer\": null, \"activity_regularizer\": null, \"kernel_constraint\": null, \"bias_constraint\": null}}, {\"class_name\": \"Conv2D\", \"config\": {\"name\": \"conv2d_4\", \"trainable\": true, \"dtype\": \"float32\", \"filters\": 30, \"kernel_size\": [3, 3], \"strides\": [1, 1], \"padding\": \"valid\", \"data_format\": \"channels_last\", \"dilation_rate\": [1, 1], \"groups\": 1, \"activation\": \"relu\", \"use_bias\": true, \"kernel_initializer\": {\"class_name\": \"GlorotUniform\", \"config\": {\"seed\": null}}, \"bias_initializer\": {\"class_name\": \"Zeros\", \"config\": {}}, \"kernel_regularizer\": null, \"bias_regularizer\": null, \"activity_regularizer\": null, \"kernel_constraint\": null, \"bias_constraint\": null}}, {\"class_name\": \"MaxPooling2D\", \"config\": {\"name\": \"max_pooling2d_1\", \"trainable\": true, \"dtype\": \"float32\", \"pool_size\": [2, 2], \"padding\": \"valid\", \"strides\": [2, 2], \"data_format\": \"channels_last\"}}, {\"class_name\": \"Dropout\", \"config\": {\"name\": \"dropout\", \"trainable\": true, \"dtype\": \"float32\", \"rate\": 0.5, \"noise_shape\": null, \"seed\": null}}, {\"class_name\": \"Flatten\", \"config\": {\"name\": \"flatten\", \"trainable\": true, \"dtype\": \"float32\", \"data_format\": \"channels_last\"}}, {\"class_name\": \"Dense\", \"config\": {\"name\": \"dense\", \"trainable\": true, \"dtype\": \"float32\", \"units\": 500, \"activation\": \"relu\", \"use_bias\": true, \"kernel_initializer\": {\"class_name\": \"GlorotUniform\", \"config\": {\"seed\": null}}, \"bias_initializer\": {\"class_name\": \"Zeros\", \"config\": {}}, \"kernel_regularizer\": null, \"bias_regularizer\": null, \"activity_regularizer\": null, \"kernel_constraint\": null, \"bias_constraint\": null}}, {\"class_name\": \"Dense\", \"config\": {\"name\": \"dense_1\", \"trainable\": true, \"dtype\": \"float32\", \"units\": 43, \"activation\": \"softmax\", \"use_bias\": true, \"kernel_initializer\": {\"class_name\": \"GlorotUniform\", \"config\": {\"seed\": null}}, \"bias_initializer\": {\"class_name\": \"Zeros\", \"config\": {}}, \"kernel_regularizer\": null, \"bias_regularizer\": null, \"activity_regularizer\": null, \"kernel_constraint\": null, \"bias_constraint\": null}}]}, \"keras_version\": \"2.5.0\", \"backend\": \"tensorflow\"}'"
      ]
     },
     "execution_count": 48,
     "metadata": {},
     "output_type": "execute_result"
    }
   ],
   "source": [
    "model.to_json()"
   ]
  },
  {
   "cell_type": "code",
   "execution_count": 49,
   "metadata": {},
   "outputs": [],
   "source": [
    "ModelInJson=model.to_json()"
   ]
  },
  {
   "cell_type": "code",
   "execution_count": 50,
   "metadata": {},
   "outputs": [],
   "source": [
    "abc= open(\"C:/Users/Nidhish/Downloads/AI/TrafficSignal.json\",\"w\")\n",
    "abc.write(ModelInJson)\n",
    "abc.close()"
   ]
  },
  {
   "cell_type": "code",
   "execution_count": 51,
   "metadata": {},
   "outputs": [],
   "source": [
    "model.save_weights(\"C:/Users/Nidhish/Downloads/AI/TrafficSignalWeights.h5\")"
   ]
  },
  {
   "cell_type": "code",
   "execution_count": null,
   "metadata": {},
   "outputs": [],
   "source": [
    "from tensorflow.keras.models import model_from_json"
   ]
  },
  {
   "cell_type": "code",
   "execution_count": 8,
   "metadata": {},
   "outputs": [],
   "source": [
    "abc= open(\"C:/Users/Nidhish/Downloads/AI/TrafficSignal.json\",\"r\")\n",
    "loaded_data=abc.read()\n",
    "loaded_model=model_from_json(loaded_data)\n",
    "loaded_model.load_weights(\"C:/Users/Nidhish/Downloads/AI/TrafficSignalWeights.h5\")"
   ]
  },
  {
   "cell_type": "markdown",
   "metadata": {},
   "source": [
    "# # Step 4 : Test the model"
   ]
  },
  {
   "cell_type": "code",
   "execution_count": 1,
   "metadata": {},
   "outputs": [],
   "source": [
    "import cv2\n",
    "import numpy as np"
   ]
  },
  {
   "cell_type": "code",
   "execution_count": 2,
   "metadata": {},
   "outputs": [
    {
     "data": {
      "text/plain": [
       "False"
      ]
     },
     "execution_count": 2,
     "metadata": {},
     "output_type": "execute_result"
    }
   ],
   "source": [
    "capt=cv2.VideoCapture(0)\n",
    "capt.set(3,640)\n",
    "capt.set(4,480)\n",
    "capt.set(10,180)"
   ]
  },
  {
   "cell_type": "code",
   "execution_count": 3,
   "metadata": {},
   "outputs": [],
   "source": [
    "def preprocessing(image):\n",
    "    image= cv2.cvtColor( image, cv2.COLOR_BGR2GRAY)\n",
    "    image= image/255\n",
    "    \n",
    "    \n",
    "    return image"
   ]
  },
  {
   "cell_type": "code",
   "execution_count": 4,
   "metadata": {},
   "outputs": [],
   "source": [
    "def getClassname(classNo):\n",
    "    if classNo == 0:    return 'Speed limit (20km/h)'\n",
    "    elif classNo == 1:    return 'Speed limit (30km/h)'\n",
    "    elif classNo == 2:    return 'Speed limit (50km/h)'\n",
    "    elif classNo == 3:    return 'Speed limit (60km/h)'\n",
    "    elif classNo == 4:    return 'Speed limit (70km/h)'\n",
    "    elif classNo == 5:    return 'Speed limit (80km/h)'\n",
    "    elif classNo == 6:    return 'End of speed limit (80km/h)'\n",
    "    elif classNo == 7:    return 'Speed limit (100km/h)'\n",
    "    elif classNo == 8:    return 'Speed limit (120km/h)'\n",
    "    elif classNo == 9:    return 'No passing '\n",
    "    elif classNo == 10:    return 'No passing for vechiles over 3.5 metric tons'\n",
    "    elif classNo == 11:    return 'Right-of-way at the next intersection'\n",
    "    elif classNo == 12:    return 'Priority road'\n",
    "    elif classNo == 13:    return 'Yield'\n",
    "    elif classNo == 14:    return 'Stop'\n",
    "    elif classNo == 15:    return 'No Vechicles'\n",
    "    elif classNo == 16:    return 'Vechiles over 3.5 metric tons prohibited'\n",
    "    elif classNo == 17:    return 'No Entry'\n",
    "    elif classNo == 18:    return 'General caution'\n",
    "    elif classNo == 19:    return 'Dangerous curve to the left'\n",
    "    elif classNo == 20:    return 'Dangerous curve to the right'\n",
    "    elif classNo == 21:    return 'Double Curve'\n",
    "    elif classNo == 22:    return 'Bumpy road'\n",
    "    elif classNo == 23:    return 'Slippery road'\n",
    "    elif classNo == 24:    return 'Road narrows on the right'\n",
    "    elif classNo == 25:    return 'Road work'\n",
    "    elif classNo == 26:    return 'Traffic signals'\n",
    "    elif classNo == 27:    return 'Pedestrians'\n",
    "    elif classNo == 28:    return 'Children crossing'\n",
    "    elif classNo == 29:    return 'Bicycle crossing'\n",
    "    elif classNo == 30:    return 'Beware of ice/snow'\n",
    "    elif classNo == 31:    return 'Wild animals crossing'\n",
    "    elif classNo == 32:    return 'End of all speed and passing limits'\n",
    "    elif classNo == 33:    return 'Turn right ahead'\n",
    "    elif classNo == 34:    return 'Turn left ahead'\n",
    "    elif classNo == 35:    return 'Ahead Only'\n",
    "    elif classNo == 36:    return 'Go straight or right)'\n",
    "    elif classNo == 37:    return 'Go straight or left'\n",
    "    elif classNo == 38:    return 'Keep right'\n",
    "    elif classNo == 39:    return 'Keep left'\n",
    "    elif classNo == 40:    return 'Roundabout mandatory'\n",
    "    elif classNo == 41:    return 'End of no passing'\n",
    "    elif classNo == 42:    return 'End of no passing by vechiles over 3.5 metric tons'"
   ]
  },
  {
   "cell_type": "code",
   "execution_count": 5,
   "metadata": {},
   "outputs": [
    {
     "ename": "NameError",
     "evalue": "name 'loaded_model' is not defined",
     "output_type": "error",
     "traceback": [
      "\u001b[1;31m---------------------------------------------------------------------------\u001b[0m",
      "\u001b[1;31mNameError\u001b[0m                                 Traceback (most recent call last)",
      "\u001b[1;32m<ipython-input-5-5b72d1a779d0>\u001b[0m in \u001b[0;36m<module>\u001b[1;34m\u001b[0m\n\u001b[0;32m      5\u001b[0m     \u001b[0mimagearr\u001b[0m\u001b[1;33m=\u001b[0m\u001b[0mpreprocessing\u001b[0m\u001b[1;33m(\u001b[0m\u001b[0mimagearr\u001b[0m\u001b[1;33m)\u001b[0m\u001b[1;33m\u001b[0m\u001b[1;33m\u001b[0m\u001b[0m\n\u001b[0;32m      6\u001b[0m     \u001b[0mimagearr\u001b[0m\u001b[1;33m=\u001b[0m\u001b[0mimagearr\u001b[0m\u001b[1;33m.\u001b[0m\u001b[0mreshape\u001b[0m\u001b[1;33m(\u001b[0m\u001b[1;36m1\u001b[0m\u001b[1;33m,\u001b[0m\u001b[1;36m32\u001b[0m\u001b[1;33m,\u001b[0m\u001b[1;36m32\u001b[0m\u001b[1;33m,\u001b[0m\u001b[1;36m1\u001b[0m\u001b[1;33m)\u001b[0m\u001b[1;33m\u001b[0m\u001b[1;33m\u001b[0m\u001b[0m\n\u001b[1;32m----> 7\u001b[1;33m     \u001b[0mpredictions\u001b[0m\u001b[1;33m=\u001b[0m\u001b[0mloaded_model\u001b[0m\u001b[1;33m.\u001b[0m\u001b[0mpredict\u001b[0m\u001b[1;33m(\u001b[0m\u001b[0mimagearr\u001b[0m\u001b[1;33m)\u001b[0m\u001b[1;33m\u001b[0m\u001b[1;33m\u001b[0m\u001b[0m\n\u001b[0m\u001b[0;32m      8\u001b[0m     \u001b[0mNeuronIndex\u001b[0m\u001b[1;33m=\u001b[0m\u001b[0mloaded_model\u001b[0m\u001b[1;33m.\u001b[0m\u001b[0mpredict_classes\u001b[0m\u001b[1;33m(\u001b[0m\u001b[0mimagearr\u001b[0m\u001b[1;33m)\u001b[0m\u001b[1;33m\u001b[0m\u001b[1;33m\u001b[0m\u001b[0m\n\u001b[0;32m      9\u001b[0m     \u001b[0mcv2\u001b[0m\u001b[1;33m.\u001b[0m\u001b[0mputText\u001b[0m\u001b[1;33m(\u001b[0m\u001b[0mimage\u001b[0m\u001b[1;33m,\u001b[0m\u001b[1;34m\"Class: \"\u001b[0m\u001b[1;33m,\u001b[0m\u001b[1;33m(\u001b[0m\u001b[1;36m20\u001b[0m\u001b[1;33m,\u001b[0m\u001b[1;36m35\u001b[0m\u001b[1;33m)\u001b[0m\u001b[1;33m,\u001b[0m\u001b[0mcv2\u001b[0m\u001b[1;33m.\u001b[0m\u001b[0mFONT_HERSHEY_COMPLEX\u001b[0m\u001b[1;33m,\u001b[0m\u001b[1;36m1\u001b[0m\u001b[1;33m,\u001b[0m\u001b[1;33m(\u001b[0m\u001b[1;36m0\u001b[0m\u001b[1;33m,\u001b[0m\u001b[1;36m0\u001b[0m\u001b[1;33m,\u001b[0m\u001b[1;36m225\u001b[0m\u001b[1;33m)\u001b[0m\u001b[1;33m,\u001b[0m\u001b[1;36m2\u001b[0m\u001b[1;33m)\u001b[0m\u001b[1;33m\u001b[0m\u001b[1;33m\u001b[0m\u001b[0m\n",
      "\u001b[1;31mNameError\u001b[0m: name 'loaded_model' is not defined"
     ]
    }
   ],
   "source": [
    "while True:\n",
    "    message,image=capt.read()\n",
    "    imagearr=np.asarray(image)\n",
    "    imagearr=cv2.resize(imagearr,(32,32))\n",
    "    imagearr=preprocessing(imagearr)\n",
    "    imagearr=imagearr.reshape(1,32,32,1)\n",
    "    predictions=loaded_model.predict(imagearr)\n",
    "    NeuronIndex=loaded_model.predict_classes(imagearr)\n",
    "    cv2.putText(image,\"Class: \",(20,35),cv2.FONT_HERSHEY_COMPLEX,1,(0,0,225),2)\n",
    "    cv2.putText(image,\"Probablity: \",(20,75),cv2.FONT_HERSHEY_COMPLEX,1,(0,0,225),2)\n",
    "    ProbablityValue = np.amax(predictions)\n",
    "    if ProbablityValue > 0.75:\n",
    "        cv2.putText(image,getClassname(NeuronIndex),(120,35),cv2.FONT_HERSHEY_COMPLEX,1,(0,0,225),2)\n",
    "        cv2.putText(image,str(int(ProbablityValue*100)) + \"%\",(200,75),cv2.FONT_HERSHEY_COMPLEX,1,(0,0,225),2)\n",
    "    cv2.imshow(\"Model Predcition\",image)\n",
    "    if cv2.waitKey(1) & 0xFF == ord('q'):\n",
    "        break\n",
    "\n",
    "capt.release()\n",
    "cv2.destroyAllWindows()"
   ]
  },
  {
   "cell_type": "code",
   "execution_count": null,
   "metadata": {},
   "outputs": [],
   "source": []
  },
  {
   "cell_type": "code",
   "execution_count": null,
   "metadata": {},
   "outputs": [],
   "source": []
  },
  {
   "cell_type": "code",
   "execution_count": null,
   "metadata": {},
   "outputs": [],
   "source": []
  },
  {
   "cell_type": "code",
   "execution_count": null,
   "metadata": {},
   "outputs": [],
   "source": []
  }
 ],
 "metadata": {
  "kernelspec": {
   "display_name": "Python 3",
   "language": "python",
   "name": "python3"
  },
  "language_info": {
   "codemirror_mode": {
    "name": "ipython",
    "version": 3
   },
   "file_extension": ".py",
   "mimetype": "text/x-python",
   "name": "python",
   "nbconvert_exporter": "python",
   "pygments_lexer": "ipython3",
   "version": "3.8.5"
  }
 },
 "nbformat": 4,
 "nbformat_minor": 4
}
